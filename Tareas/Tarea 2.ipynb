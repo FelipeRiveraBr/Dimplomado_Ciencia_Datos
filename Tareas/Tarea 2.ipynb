{
 "cells": [
  {
   "cell_type": "markdown",
   "id": "38357d0a-1151-4ea6-bd16-793c1baae36e",
   "metadata": {},
   "source": [
    "# Tarea 2"
   ]
  },
  {
   "cell_type": "code",
   "execution_count": 1,
   "id": "5900c6de-3b1d-4f71-8cf4-7d461b75b7eb",
   "metadata": {},
   "outputs": [
    {
     "data": {
      "text/plain": [
       "32"
      ]
     },
     "execution_count": 1,
     "metadata": {},
     "output_type": "execute_result"
    }
   ],
   "source": [
    "from datetime import date\n",
    "\n",
    "def calcular_edad(date_of_birth):\n",
    "    today = date.today()\n",
    "    birth_date = date.fromisoformat(date_of_birth)\n",
    "    age = today.year - birth_date.year - ((today.month, today.day) < (birth_date.month, birth_date.day))\n",
    "    return age\n",
    "\n",
    "calcular_edad(\"1990-10-01\")"
   ]
  },
  {
   "cell_type": "code",
   "execution_count": 3,
   "id": "a19a6f4a-624c-48f8-afcc-64b4eeba8109",
   "metadata": {},
   "outputs": [
    {
     "name": "stdout",
     "output_type": "stream",
     "text": [
      "                                  Hello, world!\n"
     ]
    }
   ],
   "source": [
    "def centrar(text):\n",
    "    length = len(text)\n",
    "    if length > 80:\n",
    "        print(\"Text is too long to center!\")\n",
    "    else:\n",
    "        spaces = 40 - length//2\n",
    "        print(\" \" * spaces + text)\n",
    "        \n",
    "centrar(\"Hello, world!\")"
   ]
  },
  {
   "cell_type": "code",
   "execution_count": 7,
   "id": "b5ca0380-d5a0-496f-9ca8-f9733ed441ac",
   "metadata": {},
   "outputs": [
    {
     "name": "stdout",
     "output_type": "stream",
     "text": [
      "**_Texto marcado con Markdown_**\n"
     ]
    }
   ],
   "source": [
    "def decorador(func):\n",
    "    def wrapper(text):\n",
    "        decorated_text = f\"**_{text}_**\"\n",
    "        return func(decorated_text)\n",
    "    return wrapper\n",
    "\n",
    "@decorador\n",
    "def mostrar_texto(text):\n",
    "    print(text)\n",
    "\n",
    "# Uso de la función decorada\n",
    "mostrar_texto(\"Texto marcado con Markdown\")"
   ]
  },
  {
   "cell_type": "code",
   "execution_count": 8,
   "id": "00b441d8-01ea-4791-98bb-7b97a5e808c2",
   "metadata": {},
   "outputs": [
    {
     "name": "stdin",
     "output_type": "stream",
     "text": [
      "Enter the first number:  2\n",
      "Enter the second number:  23\n"
     ]
    },
    {
     "name": "stdout",
     "output_type": "stream",
     "text": [
      "Neither number is a multiple of the other\n"
     ]
    }
   ],
   "source": [
    "def multiplos():\n",
    "    num1 = int(input(\"Enter the first number: \"))\n",
    "    num2 = int(input(\"Enter the second number: \"))\n",
    "    if num1 % num2 == 0:\n",
    "        print(f\"{num1} is a multiple of {num2}\")\n",
    "    elif num2 % num1 == 0:\n",
    "        print(f\"{num2} is a multiple of {num1}\")\n",
    "    else:\n",
    "        print(\"Neither number is a multiple of the other\")\n",
    "\n",
    "multiplos()"
   ]
  },
  {
   "cell_type": "code",
   "execution_count": 11,
   "id": "edf615b7-0a9a-4bcb-b5d2-75f7283597bb",
   "metadata": {},
   "outputs": [
    {
     "data": {
      "text/plain": [
       "20.0"
      ]
     },
     "execution_count": 11,
     "metadata": {},
     "output_type": "execute_result"
    }
   ],
   "source": [
    "def temperatura_promedio(temperatures):\n",
    "    total = sum(temperatures)\n",
    "    average = total / len(temperatures)\n",
    "    return average\n",
    "\n",
    "temperatura_promedio([17, 18, 19, 20, 21, 22, 23, 17, 18, 19, 20, 21, 22, 23, 17, 18, 19, 20, 21, 22, 23, 17, 18, 19, 20, 21, 22, 23])\n"
   ]
  },
  {
   "cell_type": "code",
   "execution_count": 12,
   "id": "7c53ed34-5eb4-4145-aecd-f6204fc698dc",
   "metadata": {},
   "outputs": [
    {
     "data": {
      "text/plain": [
       "'H e l l o ,   w o r l d !'"
      ]
     },
     "execution_count": 12,
     "metadata": {},
     "output_type": "execute_result"
    }
   ],
   "source": [
    "def espaciar(text):\n",
    "    new_text = \" \".join(text)\n",
    "    return new_text\n",
    "\n",
    "espaciar(\"Hello, world!\")"
   ]
  },
  {
   "cell_type": "code",
   "execution_count": 14,
   "id": "3d6a64b2-5d92-4340-bbe3-70f6ddb6ef82",
   "metadata": {},
   "outputs": [
    {
     "data": {
      "text/plain": [
       "(94, 5)"
      ]
     },
     "execution_count": 14,
     "metadata": {},
     "output_type": "execute_result"
    }
   ],
   "source": [
    "def maxmin(array):\n",
    "    max_value = max(array)\n",
    "    min_value = min(array)\n",
    "    return max_value, min_value\n",
    "\n",
    "maxmin([58, 32, 12, 77, 94, 5, 41, 63, 18, 70])"
   ]
  },
  {
   "cell_type": "code",
   "execution_count": 15,
   "id": "6a0ff998-5b50-4077-9580-893af9ac1059",
   "metadata": {},
   "outputs": [
    {
     "data": {
      "text/plain": [
       "(113.0976, 37.6992)"
      ]
     },
     "execution_count": 15,
     "metadata": {},
     "output_type": "execute_result"
    }
   ],
   "source": [
    "def propiedades_circulo(radius):\n",
    "    area = 3.1416 * radius ** 2\n",
    "    perimeter = 2 * 3.1416 * radius\n",
    "    return area, perimeter\n",
    "\n",
    "propiedades_circulo(6)"
   ]
  },
  {
   "cell_type": "code",
   "execution_count": 16,
   "id": "bf9ae05e-5c4e-428e-a5cd-7a01aa8a1013",
   "metadata": {},
   "outputs": [
    {
     "name": "stdin",
     "output_type": "stream",
     "text": [
      "Username:  andres\n",
      "Password:  breve\n"
     ]
    },
    {
     "name": "stdout",
     "output_type": "stream",
     "text": [
      "Login failed. Number of attempts: 1\n"
     ]
    },
    {
     "name": "stdin",
     "output_type": "stream",
     "text": [
      "Username:  user1\n",
      "Password:  asdasd\n"
     ]
    },
    {
     "name": "stdout",
     "output_type": "stream",
     "text": [
      "Login successful!\n"
     ]
    }
   ],
   "source": [
    "def Login(username, password, num_attempts):\n",
    "    if username == \"user1\" and password == \"asdasd\":\n",
    "        return True\n",
    "    else:\n",
    "        num_attempts += 1\n",
    "        return False, num_attempts\n",
    "\n",
    "attempts = 0\n",
    "while True:\n",
    "    username = input(\"Username: \")\n",
    "    password = input(\"Password: \")\n",
    "    result = Login(username, password, attempts)\n",
    "    if result == True:\n",
    "        print(\"Login successful!\")\n",
    "        break\n",
    "    else:\n",
    "        attempts = result[1]\n",
    "        print(f\"Login failed. Number of attempts: {attempts}\")"
   ]
  },
  {
   "cell_type": "code",
   "execution_count": 19,
   "id": "1fe67705-e1af-4250-86d4-33beaa5e28da",
   "metadata": {},
   "outputs": [
    {
     "data": {
      "text/plain": [
       "2432902008176640000"
      ]
     },
     "execution_count": 19,
     "metadata": {},
     "output_type": "execute_result"
    }
   ],
   "source": [
    "def factorial(num):\n",
    "    factorial = 1    \n",
    "    if num < 0:    \n",
    "        print(\" Factorial does not exist for negative numbers\")    \n",
    "    elif num == 0:    \n",
    "        print(\"The factorial of 0 is 1\")    \n",
    "    else:    \n",
    "        for i in range(1,num + 1):    \n",
    "            factorial = factorial*i \n",
    "    return factorial\n",
    "\n",
    "factorial(20)"
   ]
  },
  {
   "cell_type": "code",
   "execution_count": 22,
   "id": "b037f766-3f48-4a2b-9724-e9b8e2829b73",
   "metadata": {},
   "outputs": [
    {
     "data": {
      "text/plain": [
       "19470"
      ]
     },
     "execution_count": 22,
     "metadata": {},
     "output_type": "execute_result"
    }
   ],
   "source": [
    "def segundos(hours, minutes, seconds):\n",
    "    total_seconds = hours * 3600 + minutes * 60 + seconds\n",
    "    return total_seconds\n",
    "\n",
    "segundos(5,24,30)"
   ]
  },
  {
   "cell_type": "code",
   "execution_count": 25,
   "id": "cb35aa44-f631-4a58-ab5a-3e8b9173ab1b",
   "metadata": {},
   "outputs": [
    {
     "data": {
      "text/plain": [
       "(0, 33, 40)"
      ]
     },
     "execution_count": 25,
     "metadata": {},
     "output_type": "execute_result"
    }
   ],
   "source": [
    "def time(seconds):\n",
    "    hours = seconds // 3600\n",
    "    minutes = (seconds % 3600) // 60\n",
    "    seconds = (seconds % 3600) % 60\n",
    "    return hours, minutes, seconds\n",
    "\n",
    "time(2020)"
   ]
  },
  {
   "cell_type": "code",
   "execution_count": 29,
   "id": "004e96d5-ff18-4a71-a547-64032530a2c6",
   "metadata": {},
   "outputs": [
    {
     "data": {
      "text/plain": [
       "(21, 69, 8, 34, 22, 4)"
      ]
     },
     "execution_count": 29,
     "metadata": {},
     "output_type": "execute_result"
    }
   ],
   "source": [
    "def invertit_tupla(t):\n",
    "    reversed_tuple = tuple(reversed(t))\n",
    "    return reversed_tuple\n",
    "\n",
    "invertit_tupla((4,22,34,8,69,21))"
   ]
  },
  {
   "cell_type": "code",
   "execution_count": 30,
   "id": "090af079-4747-46ea-8ebc-6fff14aaac64",
   "metadata": {},
   "outputs": [
    {
     "data": {
      "text/plain": [
       "2.605171084697352"
      ]
     },
     "execution_count": 30,
     "metadata": {},
     "output_type": "execute_result"
    }
   ],
   "source": [
    "from functools import reduce\n",
    "import math\n",
    "\n",
    "def mediageometrica(numbers):\n",
    "    product = reduce(lambda x, y: x * y, numbers)\n",
    "    return math.pow(product, 1/len(numbers))\n",
    "\n",
    "mediageometrica([1, 2, 3, 4, 5])"
   ]
  },
  {
   "cell_type": "code",
   "execution_count": null,
   "id": "89d038a0-52f8-4732-b4e8-1963d52c1b96",
   "metadata": {},
   "outputs": [],
   "source": []
  }
 ],
 "metadata": {
  "kernelspec": {
   "display_name": "Python 3 (ipykernel)",
   "language": "python",
   "name": "python3"
  },
  "language_info": {
   "codemirror_mode": {
    "name": "ipython",
    "version": 3
   },
   "file_extension": ".py",
   "mimetype": "text/x-python",
   "name": "python",
   "nbconvert_exporter": "python",
   "pygments_lexer": "ipython3",
   "version": "3.9.13"
  }
 },
 "nbformat": 4,
 "nbformat_minor": 5
}
