{
 "cells": [
  {
   "cell_type": "markdown",
   "metadata": {
    "id": "t7BkzOvOjcjb"
   },
   "source": [
    "# Plant Disease classifier"
   ]
  },
  {
   "cell_type": "markdown",
   "metadata": {
    "id": "WCYjc7r6jg_Y"
   },
   "source": [
    "Para este proyecto construímos un clasificador que permita detectar enfermedades en ciertas plantas de cultivo por medio de imágenes de hojas. En total se tienen 39 clases, que incluyen manzana, cereza, maíz, uva, naranja, durazno, pimienta, papa, soya, fresa y tomate. Cada una de estas se divide en subcategorías que incluyen diferentes enfermedades propias de cada planta y una categoría sana para cada una. También se incluye un fondo sin hojas con el fin de poder identificar cuando no hay una hoja en la imagen."
   ]
  },
  {
   "cell_type": "markdown",
   "metadata": {
    "id": "XWpvyIOHmSj4"
   },
   "source": [
    "## Datos"
   ]
  },
  {
   "cell_type": "markdown",
   "metadata": {
    "id": "lY3f9IznlIHh"
   },
   "source": [
    "## Separar los datos "
   ]
  },
  {
   "cell_type": "markdown",
   "metadata": {
    "id": "iaLc6dv8lN9w"
   },
   "source": [
    "Las imágenes fueron separadas en datos de entrenamiento, prueba y validacion utilizando las librerías 'os' y 'splitfolders'"
   ]
  },
  {
   "cell_type": "code",
   "execution_count": 4,
   "metadata": {
    "id": "qwy81Dp9l_dA"
   },
   "outputs": [],
   "source": [
    "import splitfolders\n",
    "import os\n",
    "\n",
    "os.makedirs('C:/Users/Usuario/OneDrive/Documentos/IA/Plant village/Data/SplitData') #Crea una carpeta para almacenar las imágenes separadas\n",
    "os.makedirs('C:/Users/Usuario/OneDrive/Documentos/IA/Plant village/Data/SplitData/train') #crea una subcarpeta de entrenamiento\n",
    "os.makedirs('C:/Users/Usuario/OneDrive/Documentos/IA/Plant village/Data/SplitData/val') #crea una subcarpeta de validación\n",
    "os.makedirs('C:/Users/Usuario/OneDrive/Documentos/IA/Plant village/Data/SplitData/test') #crea una subcarpeta de prueba\n",
    "\n",
    "loc = \"C:/Users/Usuario/OneDrive/Documentos/IA/Plant village/Data/Plant_leave_diseases_dataset\" \n",
    "\n",
    "splitfolders.ratio(loc,output = \"C:/Users/Usuario/OneDrive/Documentos/IA/Plant village/Data/SplitData\",seed = 42,ratio = (0.70,.15,.15)) #Se distribuyen las imágenes aleatoreamente."
   ]
  },
  {
   "cell_type": "markdown",
   "metadata": {
    "id": "YH3mjBsLm0Ee"
   },
   "source": [
    "# Crear las etiquietas para cada imagen"
   ]
  },
  {
   "cell_type": "markdown",
   "metadata": {
    "id": "7KHvt56Bm6c-"
   },
   "source": [
    "En el modulo de preprocesamiento existen diferentes funciones quepermiten crear las etiquetas para las imágenes. En este caso usaremos 'image_dataset_from_directory' que asigna a cada imagen la etiqueta correspondiente a la carpeta en la cual se encuentra"
   ]
  },
  {
   "cell_type": "code",
   "execution_count": 5,
   "metadata": {
    "id": "MosQ7ELOmzJI"
   },
   "outputs": [],
   "source": [
    "import tensorflow as tf\n",
    "from tensorflow.keras import layers\n",
    "from tensorflow.keras.preprocessing import image_dataset_from_directory\n",
    "from tensorflow.keras.layers import Conv2D, MaxPooling2D, Flatten, Dense"
   ]
  },
  {
   "cell_type": "code",
   "execution_count": 6,
   "metadata": {
    "colab": {
     "base_uri": "https://localhost:8080/"
    },
    "id": "dvwNYPzsjdKH",
    "outputId": "86222cd8-f22e-448a-9c39-71a4f8fc0734"
   },
   "outputs": [
    {
     "name": "stdout",
     "output_type": "stream",
     "text": [
      "Found 38797 files belonging to 39 classes.\n",
      "Found 8300 files belonging to 39 classes.\n",
      "Found 8351 files belonging to 39 classes.\n"
     ]
    }
   ],
   "source": [
    "train_dir = 'C:/Users/Usuario/OneDrive/Documentos/IA/Plant village/Data/SplitData/train'\n",
    "val_dir = 'C:/Users/Usuario/OneDrive/Documentos/IA/Plant village/Data/SplitData/val'\n",
    "test_dir  = 'C:/Users/Usuario/OneDrive/Documentos/IA/Plant village/Data/SplitData/test'\n",
    "\n",
    "train_data = image_dataset_from_directory(train_dir,label_mode=\"categorical\",image_size = (224,224),\n",
    "                                          batch_size = 32,seed = 123,shuffle = True)\n",
    "\n",
    "\n",
    "val_data = image_dataset_from_directory(val_dir,label_mode=\"categorical\",image_size = (224,224),\n",
    "                                          batch_size = 32,seed = 123,shuffle = False)\n",
    "\n",
    "\n",
    "test_data = image_dataset_from_directory(test_dir,label_mode=\"categorical\",image_size = (224,224),\n",
    "                                          batch_size = 32,seed = 123,shuffle = False)"
   ]
  },
  {
   "cell_type": "markdown",
   "metadata": {},
   "source": [
    "Observamos las 39 clases existentes en nuestra base de datos"
   ]
  },
  {
   "cell_type": "code",
   "execution_count": 7,
   "metadata": {
    "colab": {
     "base_uri": "https://localhost:8080/"
    },
    "id": "uJYhOxebE883",
    "outputId": "d818e6bb-9de3-432e-d51c-5640d6cdd99f"
   },
   "outputs": [
    {
     "name": "stdout",
     "output_type": "stream",
     "text": [
      "['Apple___Apple_scab', 'Apple___Black_rot', 'Apple___Cedar_apple_rust', 'Apple___healthy', 'Background_without_leaves', 'Blueberry___healthy', 'Cherry___Powdery_mildew', 'Cherry___healthy', 'Corn___Cercospora_leaf_spot Gray_leaf_spot', 'Corn___Common_rust', 'Corn___Northern_Leaf_Blight', 'Corn___healthy', 'Grape___Black_rot', 'Grape___Esca_(Black_Measles)', 'Grape___Leaf_blight_(Isariopsis_Leaf_Spot)', 'Grape___healthy', 'Orange___Haunglongbing_(Citrus_greening)', 'Peach___Bacterial_spot', 'Peach___healthy', 'Pepper,_bell___Bacterial_spot', 'Pepper,_bell___healthy', 'Potato___Early_blight', 'Potato___Late_blight', 'Potato___healthy', 'Raspberry___healthy', 'Soybean___healthy', 'Squash___Powdery_mildew', 'Strawberry___Leaf_scorch', 'Strawberry___healthy', 'Tomato___Bacterial_spot', 'Tomato___Early_blight', 'Tomato___Late_blight', 'Tomato___Leaf_Mold', 'Tomato___Septoria_leaf_spot', 'Tomato___Spider_mites Two-spotted_spider_mite', 'Tomato___Target_Spot', 'Tomato___Tomato_Yellow_Leaf_Curl_Virus', 'Tomato___Tomato_mosaic_virus', 'Tomato___healthy']\n"
     ]
    }
   ],
   "source": [
    "print(train_data.class_names)\n",
    "num_classes=len(train_data.class_names)\n"
   ]
  },
  {
   "cell_type": "markdown",
   "metadata": {
    "id": "Ip8oqvYa7pVd"
   },
   "source": [
    "# Modelo "
   ]
  },
  {
   "cell_type": "markdown",
   "metadata": {},
   "source": [
    "Se añaden un callback \"early stop\""
   ]
  },
  {
   "cell_type": "code",
   "execution_count": 8,
   "metadata": {},
   "outputs": [],
   "source": [
    "early_stop = tf.keras.callbacks.EarlyStopping(monitor = \"val_loss\",patience = 5,min_delta = 0.0001,restore_best_weights = True,verbose = 1)"
   ]
  },
  {
   "cell_type": "markdown",
   "metadata": {
    "id": "UB7uUxDn5WHm"
   },
   "source": [
    "### Feature extractor\n",
    "El feature extractor será el modelo base, en este caso se trata de la arquitectura DenseNet169, un modelo de redes convolusionales preentrenado de 169 capas."
   ]
  },
  {
   "cell_type": "code",
   "execution_count": 9,
   "metadata": {
    "colab": {
     "base_uri": "https://localhost:8080/"
    },
    "id": "rUlx9tVu7ovx",
    "outputId": "958295be-91f4-48e8-9edb-a5d8a148dbe7"
   },
   "outputs": [],
   "source": [
    "base_model = tf.keras.applications.DenseNet169(include_top = False)"
   ]
  },
  {
   "cell_type": "markdown",
   "metadata": {},
   "source": [
    "Debido a que las pruebas iniciales mostraron sobreajuste se añadió una capa de 'augmentation', es decir, una capa que altera las imágenes, cambiando la altura, el ancho, la rotación y reescalamiento"
   ]
  },
  {
   "cell_type": "code",
   "execution_count": 10,
   "metadata": {},
   "outputs": [],
   "source": [
    "from tensorflow.keras.layers.experimental import preprocessing\n",
    "data_aug = tf.keras.Sequential([\n",
    "    preprocessing.RandomHeight(0.2),\n",
    "    preprocessing.RandomWidth(0.2),\n",
    "    preprocessing.RandomRotation(0.2),\n",
    "    preprocessing.RandomFlip(\"horizontal\"),\n",
    "    preprocessing.Rescaling(1/255.)\n",
    "],name = \"data_augmentation_layer\")"
   ]
  },
  {
   "cell_type": "markdown",
   "metadata": {},
   "source": [
    "Adicionalmente se añade una capa de Average Pooling y dos capas Dense utilizando relu como función de activación"
   ]
  },
  {
   "cell_type": "markdown",
   "metadata": {},
   "source": [
    "de esta forma el modelo se construye de la siguiente manera:"
   ]
  },
  {
   "cell_type": "code",
   "execution_count": 11,
   "metadata": {},
   "outputs": [],
   "source": [
    "inputs = layers.Input(shape = (224,224,3),name = \"Input_layer\") #capa de entrada\n",
    "x = data_aug(inputs) #capa de augmentation\n",
    "x = base_model(x) #red densenet (extractor de features)\n",
    "x = layers.GlobalAveragePooling2D(name = \"Global_average_pooling_layer\")(x) #global average pooling\n",
    "x = layers.Dense(32,activation = \"relu\",kernel_initializer = tf.keras.initializers.HeNormal(),name = \"Dense_layer_1\")(x)#capa densa 1\n",
    "x = layers.Dense(39,name = \"Dense_layer_2\")(x) #capa densa 2\n",
    "outputs = layers.Activation(\"softmax\",dtype = tf.float32)(x) #softmax para clasificar\n",
    "model = tf.keras.Model(inputs,outputs) #creacion del modelo"
   ]
  },
  {
   "cell_type": "markdown",
   "metadata": {},
   "source": [
    "## Resumen del modelo final"
   ]
  },
  {
   "cell_type": "code",
   "execution_count": 12,
   "metadata": {},
   "outputs": [
    {
     "name": "stdout",
     "output_type": "stream",
     "text": [
      "Model: \"model\"\n",
      "_________________________________________________________________\n",
      " Layer (type)                Output Shape              Param #   \n",
      "=================================================================\n",
      " Input_layer (InputLayer)    [(None, 224, 224, 3)]     0         \n",
      "                                                                 \n",
      " data_augmentation_layer (Se  (None, None, None, 3)    0         \n",
      " quential)                                                       \n",
      "                                                                 \n",
      " densenet169 (Functional)    (None, None, None, 1664)  12642880  \n",
      "                                                                 \n",
      " Global_average_pooling_laye  (None, 1664)             0         \n",
      " r (GlobalAveragePooling2D)                                      \n",
      "                                                                 \n",
      " Dense_layer_1 (Dense)       (None, 32)                53280     \n",
      "                                                                 \n",
      " Dense_layer_2 (Dense)       (None, 39)                1287      \n",
      "                                                                 \n",
      " activation (Activation)     (None, 39)                0         \n",
      "                                                                 \n",
      "=================================================================\n",
      "Total params: 12,697,447\n",
      "Trainable params: 54,567\n",
      "Non-trainable params: 12,642,880\n",
      "_________________________________________________________________\n"
     ]
    }
   ],
   "source": [
    "model.summary()"
   ]
  },
  {
   "cell_type": "markdown",
   "metadata": {},
   "source": [
    "Nota: Las dimensiones de las imágenes a partir de la segunda capa son flexibles y variables debido a la capa de augmentation que altera las dimensiones de la imagen, por lo que se muestran las dimensiones como 'None'"
   ]
  },
  {
   "cell_type": "markdown",
   "metadata": {},
   "source": [
    "## Compilar el modelo"
   ]
  },
  {
   "cell_type": "code",
   "execution_count": 13,
   "metadata": {},
   "outputs": [],
   "source": [
    "model.compile(loss = tf.keras.losses.CategoricalCrossentropy(),optimizer = tf.keras.optimizers.Adam(),\n",
    "                metrics = [\"accuracy\"])"
   ]
  },
  {
   "cell_type": "markdown",
   "metadata": {},
   "source": [
    "## Entrenamos el modelo"
   ]
  },
  {
   "cell_type": "markdown",
   "metadata": {},
   "source": [
    "Utilizamos la librería psutil para poder agregar prioridad de la CPU al entrenamiento del modelo, debido a que es un proceso bastante largo y computacionalmente complejo"
   ]
  },
  {
   "cell_type": "code",
   "execution_count": 14,
   "metadata": {},
   "outputs": [],
   "source": [
    "import psutil\n",
    "\n",
    "# Obtener el ID de proceso del notebook de Jupyter\n",
    "pid = os.getpid()\n",
    "\n",
    "# Establece la prioridad de rendimiento al nivel más alto\n",
    "p = psutil.Process(pid)\n",
    "p.nice(psutil.REALTIME_PRIORITY_CLASS)"
   ]
  },
  {
   "cell_type": "markdown",
   "metadata": {},
   "source": [
    "Entrenamos el modelo"
   ]
  },
  {
   "cell_type": "code",
   "execution_count": 15,
   "metadata": {},
   "outputs": [
    {
     "name": "stdout",
     "output_type": "stream",
     "text": [
      "Epoch 1/3\n",
      "1213/1213 [==============================] - 5588s 5s/step - loss: 0.9445 - accuracy: 0.7505 - val_loss: 0.3442 - val_accuracy: 0.8942\n",
      "Epoch 2/3\n",
      "1213/1213 [==============================] - 5520s 5s/step - loss: 0.3468 - accuracy: 0.8954 - val_loss: 0.2462 - val_accuracy: 0.9154\n",
      "Epoch 3/3\n",
      "1213/1213 [==============================] - 5545s 5s/step - loss: 0.2666 - accuracy: 0.9159 - val_loss: 0.1889 - val_accuracy: 0.9394\n"
     ]
    }
   ],
   "source": [
    "history= model.fit(train_data,epochs = 3,steps_per_epoch=len(train_data),\n",
    "                        validation_data = val_data,validation_steps = int(0.25*len(val_data)),\n",
    "                        callbacks = early_stop)"
   ]
  },
  {
   "cell_type": "markdown",
   "metadata": {},
   "source": [
    "## Resultados"
   ]
  },
  {
   "cell_type": "markdown",
   "metadata": {},
   "source": [
    "Se almacenan los pesos en formato h5 para poder usarlos posteriormente en la aplicación que se planea hacer"
   ]
  },
  {
   "cell_type": "code",
   "execution_count": 16,
   "metadata": {},
   "outputs": [],
   "source": [
    "model.save_weights('C:/Users/Usuario/OneDrive/Documentos/IA/Plant village/Data/results/weights.h5')"
   ]
  },
  {
   "cell_type": "markdown",
   "metadata": {},
   "source": [
    "Extraemos y graficamos la pérdida y precisión de cada iteración"
   ]
  },
  {
   "cell_type": "code",
   "execution_count": 46,
   "metadata": {
    "colab": {
     "base_uri": "https://localhost:8080/",
     "height": 489
    },
    "id": "dqyaRcl_68er",
    "outputId": "4b14da22-4ba1-4622-a03c-8d275e2418e7"
   },
   "outputs": [
    {
     "data": {
      "image/png": "[encoded data removed]",
      "text/plain": [
       "<Figure size 640x480 with 1 Axes>"
      ]
     },
     "metadata": {},
     "output_type": "display_data"
    },
    {
     "data": {
      "text/plain": [
       "<matplotlib.legend.Legend at 0x20446c53640>"
      ]
     },
     "execution_count": 46,
     "metadata": {},
     "output_type": "execute_result"
    },
    {
     "data": {
      "image/png": "[encoded data removed]",
      "text/plain": [
       "<Figure size 640x480 with 1 Axes>"
      ]
     },
     "metadata": {},
     "output_type": "display_data"
    }
   ],
   "source": [
    "import matplotlib.pyplot as plt\n",
    "import matplotlib.image as mping\n",
    "\n",
    "loss = history.history['loss']\n",
    "val_loss = history.history['val_loss']\n",
    "accuracy = history.history['accuracy']\n",
    "val_accuracy = history.history['val_accuracy']\n",
    "epochs = range(len(history.history['loss']))\n",
    "\n",
    "plt.plot(epochs, loss, label='training_loss')\n",
    "plt.plot(epochs, val_loss, label='val_loss')\n",
    "plt.title('Loss')\n",
    "plt.xlabel('Epochs')\n",
    "plt.legend()\n",
    "plt.show()\n",
    "\n",
    "plt.plot(epochs, accuracy, label='training_accuracy')\n",
    "plt.plot(epochs, val_accuracy, label='val_accuracy')\n",
    "plt.title('Accuracy')\n",
    "plt.xlabel('Epochs')\n",
    "plt.legend()"
   ]
  },
  {
   "cell_type": "markdown",
   "metadata": {},
   "source": [
    "Evaluamos los resultados con el conjunto de prueba"
   ]
  },
  {
   "cell_type": "code",
   "execution_count": 19,
   "metadata": {
    "colab": {
     "base_uri": "https://localhost:8080/"
    },
    "id": "_sRRnhTzKfP-",
    "outputId": "2322fa9b-07a7-4f56-be86-bbf4a8446a5a"
   },
   "outputs": [
    {
     "name": "stdout",
     "output_type": "stream",
     "text": [
      "261/261 [==============================] - 1178s 5s/step - loss: 0.2541 - accuracy: 0.9151\n",
      "Pérdida en los datos de prueba: 0.2541446387767792\n",
      "Precisión en los datos de prueba: 0.9150999784469604\n"
     ]
    }
   ],
   "source": [
    "results = model.evaluate(test_data)\n",
    "\n",
    "print(\"Pérdida en los datos de prueba:\", results[0])\n",
    "print(\"Precisión en los datos de prueba:\", results[1])"
   ]
  },
  {
   "cell_type": "markdown",
   "metadata": {},
   "source": [
    "Volvemos a establecer la prioridad normal"
   ]
  },
  {
   "cell_type": "code",
   "execution_count": 20,
   "metadata": {},
   "outputs": [],
   "source": [
    "# Obtener el ID de proceso del notebook de Jupyter\n",
    "pid = os.getpid()\n",
    "\n",
    "# Establece la prioridad de rendimiento al nivel normal (por defecto)\n",
    "p = psutil.Process(pid)\n",
    "p.nice(psutil.NORMAL_PRIORITY_CLASS)"
   ]
  },
  {
   "cell_type": "markdown",
   "metadata": {},
   "source": [
    "# Prueba manual"
   ]
  },
  {
   "cell_type": "markdown",
   "metadata": {},
   "source": [
    "Se realizaron pruebas indivuduales con imágenes tomadas de internet almacenándolas en una carpeta independiente y usando el método predict sobre esta imagen pudimos observar resultados satisfactorios"
   ]
  },
  {
   "cell_type": "code",
   "execution_count": 69,
   "metadata": {
    "colab": {
     "base_uri": "https://localhost:8080/"
    },
    "id": "98k9n5OJiEz5",
    "outputId": "39058531-a827-4796-c562-a7b20dc5ad3a"
   },
   "outputs": [
    {
     "name": "stdout",
     "output_type": "stream",
     "text": [
      "Found 1 files belonging to 1 classes.\n"
     ]
    }
   ],
   "source": [
    "loctest='C:/Users/Usuario/OneDrive/Documentos/IA/Plant village/Data/pruebaind'\n",
    "imgprueba=image_dataset_from_directory(loctest,label_mode=\"categorical\",image_size = (224,224),\n",
    "                                          batch_size = 32,seed = 123,shuffle = True)"
   ]
  },
  {
   "cell_type": "code",
   "execution_count": 70,
   "metadata": {
    "colab": {
     "base_uri": "https://localhost:8080/",
     "height": 53
    },
    "id": "gT784YAVjnKh",
    "outputId": "68fb77f6-45ba-47dd-a229-e78f329579c7"
   },
   "outputs": [
    {
     "name": "stdout",
     "output_type": "stream",
     "text": [
      "1/1 [==============================] - 0s 469ms/step\n"
     ]
    },
    {
     "data": {
      "text/plain": [
       "'Tomato___Late_blight'"
      ]
     },
     "execution_count": 70,
     "metadata": {},
     "output_type": "execute_result"
    }
   ],
   "source": [
    "predicciones=model.predict(imgprueba)\n",
    "clase_predicha = tf.argmax(predicciones, axis=1)\n",
    "etiqueta_predicha = train_data.class_names[clase_predicha.numpy()[0]]\n",
    "etiqueta_predicha"
   ]
  }
 ],
 "metadata": {
  "accelerator": "GPU",
  "colab": {
   "gpuType": "T4",
   "provenance": []
  },
  "kernelspec": {
   "display_name": "Python 3 (ipykernel)",
   "language": "python",
   "name": "python3"
  },
  "language_info": {
   "codemirror_mode": {
    "name": "ipython",
    "version": 3
   },
   "file_extension": ".py",
   "mimetype": "text/x-python",
   "name": "python",
   "nbconvert_exporter": "python",
   "pygments_lexer": "ipython3",
   "version": "3.9.13"
  }
 },
 "nbformat": 4,
 "nbformat_minor": 4
}
